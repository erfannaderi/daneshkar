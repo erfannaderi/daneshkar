{
 "cells": [
  {
   "cell_type": "code",
   "execution_count": 19,
   "outputs": [
    {
     "name": "stderr",
     "output_type": "stream",
     "text": [
      "C:\\Users\\erfan\\AppData\\Local\\Temp\\ipykernel_4592\\701558860.py:13: FutureWarning: DataFrame.fillna with 'method' is deprecated and will raise in a future version. Use obj.ffill() or obj.bfill() instead.\n",
      "  df.fillna(method='ffill', inplace=True)\n"
     ]
    },
    {
     "name": "stdout",
     "output_type": "stream",
     "text": [
      "Data cleaning complete. Cleaned data saved to it takes a second wait 'cleaned_hotel_bookings1.csv'.\n"
     ]
    }
   ],
   "source": [
    "import pandas as pd\n",
    "\n",
    "class DataCleaner:\n",
    "    def __init__(self, input_file, output_file):\n",
    "        self.input_file = input_file\n",
    "        self.output_file = output_file\n",
    "\n",
    "    def clean_data(self):\n",
    "        try:\n",
    "            df = pd.read_csv(self.input_file)\n",
    "\n",
    "            # Handling missing values\n",
    "            df.fillna(method='ffill', inplace=True) \n",
    "            df.dropna(inplace=True)\n",
    "\n",
    "            # Correcting data types\n",
    "            df['arrival_date_year'] = df['arrival_date_year'].astype(str) \n",
    "            df['arrival_date_month'] = pd.to_datetime(df['arrival_date_month'], format='%B').dt.month \n",
    "\n",
    "            # Removing duplicates\n",
    "            df.drop_duplicates(inplace=True)\n",
    "\n",
    "            # Save the cleaned data to a new file\n",
    "            df.to_csv(self.output_file, index=False)\n",
    "\n",
    "            print(\"Data cleaning complete. Cleaned data saved to it takes a second wait '{}'.\".format(self.output_file))\n",
    "        except Exception as e:\n",
    "            print(\"An error occurred during data cleaning:\", e)\n",
    "\n",
    "# Create an instance of the DataCleaner class and clean the data\n",
    "cleaner = DataCleaner('hotel_bookings.csv', 'cleaned_hotel_bookings1.csv')\n",
    "cleaner.clean_data()\n"
   ],
   "metadata": {
    "collapsed": false,
    "ExecuteTime": {
     "end_time": "2024-01-13T00:06:26.328052Z",
     "start_time": "2024-01-13T00:06:22.833164100Z"
    }
   },
   "id": "initial_id"
  },
  {
   "cell_type": "code",
   "execution_count": null,
   "outputs": [],
   "source": [],
   "metadata": {
    "collapsed": false
   },
   "id": "5eac31a55efa540f"
  }
 ],
 "metadata": {
  "kernelspec": {
   "display_name": "Python 3",
   "language": "python",
   "name": "python3"
  },
  "language_info": {
   "codemirror_mode": {
    "name": "ipython",
    "version": 2
   },
   "file_extension": ".py",
   "mimetype": "text/x-python",
   "name": "python",
   "nbconvert_exporter": "python",
   "pygments_lexer": "ipython2",
   "version": "2.7.6"
  }
 },
 "nbformat": 4,
 "nbformat_minor": 5
}
